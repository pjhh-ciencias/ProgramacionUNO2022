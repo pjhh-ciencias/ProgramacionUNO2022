{
 "cells": [
  {
   "cell_type": "markdown",
   "metadata": {},
   "source": [
    "# Introducción\n",
    "\n",
    "Python es un lenguaje de programación potente y fácil de aprender. Tiene estructuras de datos de alto nivel eficientes y un simple pero efectivo sistema de programación orientado a objetos. La elegante sintaxis de Python y su tipado dinámico, junto a su naturaleza interpretada lo convierten en un lenguaje ideal para scripting y desarrollo rápido de aplicaciones en muchas áreas, para la mayoría de plataformas."
   ]
  },
  {
   "cell_type": "markdown",
   "metadata": {},
   "source": [
    "## Espacio en blanco significativo\n",
    "\n",
    "Los espacios en blanco y los sangrías son importantes. Python utiliza espacios en blanco para indicar bloques de fin de línea y de código. Esto puede molestarte al principio, pero cuanto más leas el código, más te gustará."
   ]
  },
  {
   "cell_type": "markdown",
   "metadata": {},
   "source": [
    "## El REPL de Python\n",
    "\n",
    "\n",
    "* **R**ead: Python lee.\n",
    "* **E**valuate: Python evalua la entrada.\n",
    "* **P**rint: imprime la salida de lo que fue evaluado.\n",
    "* **L**oop: y este esta listo para la siguiente entrada."
   ]
  },
  {
   "cell_type": "markdown",
   "metadata": {},
   "source": [
    "## Utililizando Python como una calculadora"
   ]
  },
  {
   "cell_type": "markdown",
   "metadata": {
    "vscode": {
     "languageId": "html"
    }
   },
   "source": [
    "        | Operador aritmético | Operación        | Ejemplo   | Resultado |\n",
    "|---------------------|------------------|-----------|-----------|\n",
    "| ^                   | Potencia         | 4**3      | 64        |\n",
    "| *                   | Multiplicación   | 1.25*2    | 2.5       |\n",
    "| /                   | División         | 15/4      | 3.75      |\n",
    "| +                   | Suma             | 20.5+9.2  | 29.7      |\n",
    "| -                   | Resta            | 17.9-14.6 | 3.3       |\n",
    "| MOD                 | Módulo (residuo) | 15 MOD 2  | 1         |\n",
    "| DIV                 | División entera  | 17 DIV 3  | 5         |\n"
   ]
  },
  {
   "cell_type": "markdown",
   "metadata": {},
   "source": []
  },
  {
   "cell_type": "code",
   "execution_count": 5,
   "metadata": {},
   "outputs": [
    {
     "name": "stdout",
     "output_type": "stream",
     "text": [
      "Hola mundo\n"
     ]
    }
   ],
   "source": [
    "print('Hola mundo')"
   ]
  },
  {
   "cell_type": "markdown",
   "metadata": {},
   "source": [
    "## Operadores aritméticos"
   ]
  },
  {
   "cell_type": "markdown",
   "metadata": {},
   "source": [
    "<table><thead><tr><th class=\"has-text-align-left\" data-align=\"left\">Operator</th><th class=\"has-text-align-left\" data-align=\"left\">Name</th><th class=\"has-text-align-left\" data-align=\"left\">Example</th></tr></thead><tbody><tr><td class=\"has-text-align-left\" data-align=\"left\">%</td><td class=\"has-text-align-left\" data-align=\"left\">Modulus</td><td class=\"has-text-align-left\" data-align=\"left\">5 % 2</td></tr><tr><td class=\"has-text-align-left\" data-align=\"left\">//</td><td class=\"has-text-align-left\" data-align=\"left\">Floor division</td><td class=\"has-text-align-left\" data-align=\"left\">9 // 2</td></tr><tr><td class=\"has-text-align-left\" data-align=\"left\">**</td><td class=\"has-text-align-left\" data-align=\"left\">Exponential</td><td class=\"has-text-align-left\" data-align=\"left\">2 ** 4</td></tr></tbody></table>\n",
    "<thead><tr><th class=\"has-text-align-left\" data-align=\"left\">Operator</th><th class=\"has-text-align-left\" data-align=\"left\">Name</th><th class=\"has-text-align-left\" data-align=\"left\">Example</th></tr></thead>\n",
    "<tr><th class=\"has-text-align-left\" data-align=\"left\">Operator</th><th class=\"has-text-align-left\" data-align=\"left\">Name</th><th class=\"has-text-align-left\" data-align=\"left\">Example</th></tr>\n",
    "<th class=\"has-text-align-left\" data-align=\"left\">Operator</th>\n",
    "<th class=\"has-text-align-left\" data-align=\"left\">Name</th>\n",
    "<th class=\"has-text-align-left\" data-align=\"left\">Example</th>\n",
    "<tr><th class=\"has-text-align-left\" data-align=\"left\">Operator</th><th class=\"has-text-align-left\" data-align=\"left\">Name</th><th class=\"has-text-align-left\" data-align=\"left\">Example</th></tr>\n",
    "<thead><tr><th class=\"has-text-align-left\" data-align=\"left\">Operator</th><th class=\"has-text-align-left\" data-align=\"left\">Name</th><th class=\"has-text-align-left\" data-align=\"left\">Example</th></tr></thead>\n",
    "<tbody><tr><td class=\"has-text-align-left\" data-align=\"left\">%</td><td class=\"has-text-align-left\" data-align=\"left\">Modulus</td><td class=\"has-text-align-left\" data-align=\"left\">5 % 2</td></tr><tr><td class=\"has-text-align-left\" data-align=\"left\">//</td><td class=\"has-text-align-left\" data-align=\"left\">Floor division</td><td class=\"has-text-align-left\" data-align=\"left\">9 // 2</td></tr><tr><td class=\"has-text-align-left\" data-align=\"left\">**</td><td class=\"has-text-align-left\" data-align=\"left\">Exponential</td><td class=\"has-text-align-left\" data-align=\"left\">2 ** 4</td></tr></tbody>\n",
    "<table><thead><tr><th class=\"has-text-align-left\" data-align=\"left\">Operator</th><th class=\"has-text-align-left\" data-align=\"left\">Name</th><th class=\"has-text-align-left\" data-align=\"left\">Example</th></tr></thead><tbody><tr><td class=\"has-text-align-left\" data-align=\"left\">%</td><td class=\"has-text-align-left\" data-align=\"left\">Modulus</td><td class=\"has-text-align-left\" data-align=\"left\">5 % 2</td></tr><tr><td class=\"has-text-align-left\" data-align=\"left\">//</td><td class=\"has-text-align-left\" data-align=\"left\">Floor division</td><td class=\"has-text-align-left\" data-align=\"left\">9 // 2</td></tr><tr><td class=\"has-text-align-left\" data-align=\"left\">**</td><td class=\"has-text-align-left\" data-align=\"left\">Exponential</td><td class=\"has-text-align-left\" data-align=\"left\">2 ** 4</td></tr></tbody></table>"
   ]
  },
  {
   "cell_type": "code",
   "execution_count": null,
   "metadata": {},
   "outputs": [],
   "source": []
  },
  {
   "cell_type": "markdown",
   "metadata": {},
   "source": []
  },
  {
   "cell_type": "code",
   "execution_count": 1,
   "metadata": {},
   "outputs": [],
   "source": [
    "friends = ['john', 'pat', 'gary', 'michael']"
   ]
  },
  {
   "cell_type": "code",
   "execution_count": 7,
   "metadata": {},
   "outputs": [
    {
     "data": {
      "text/plain": [
       "<enumerate at 0x107110480>"
      ]
     },
     "execution_count": 7,
     "metadata": {},
     "output_type": "execute_result"
    }
   ],
   "source": [
    "enumerate(friends)"
   ]
  },
  {
   "cell_type": "code",
   "execution_count": 2,
   "metadata": {},
   "outputs": [
    {
     "name": "stdout",
     "output_type": "stream",
     "text": [
      "iteration 0 is john\n",
      "iteration 1 is pat\n",
      "iteration 2 is gary\n",
      "iteration 3 is michael\n"
     ]
    }
   ],
   "source": [
    "for i, name in enumerate(friends):\n",
    "    print (\"iteration {iteration} is {name}\".format(iteration=i, name=name))"
   ]
  },
  {
   "cell_type": "code",
   "execution_count": null,
   "metadata": {},
   "outputs": [],
   "source": []
  }
 ],
 "metadata": {
  "kernelspec": {
   "display_name": "Python 3.9.0 64-bit",
   "language": "python",
   "name": "python3"
  },
  "language_info": {
   "codemirror_mode": {
    "name": "ipython",
    "version": 3
   },
   "file_extension": ".py",
   "mimetype": "text/x-python",
   "name": "python",
   "nbconvert_exporter": "python",
   "pygments_lexer": "ipython3",
   "version": "3.9.0"
  },
  "orig_nbformat": 4,
  "vscode": {
   "interpreter": {
    "hash": "ac2eaa0ea0ebeafcc7822e65e46aa9d4f966f30b695406963e145ea4a91cd4fc"
   }
  }
 },
 "nbformat": 4,
 "nbformat_minor": 2
}
